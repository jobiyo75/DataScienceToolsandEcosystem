{
 "cells": [
  {
   "cell_type": "markdown",
   "metadata": {},
   "source": [
    "## Data Science Tools and Ecosystem\n"
   ]
  },
  {
   "cell_type": "markdown",
   "metadata": {},
   "source": [
    "### 1. Introduction"
   ]
  },
  {
   "cell_type": "markdown",
   "metadata": {},
   "source": [
    "In this notebook, Data Science Tools and Ecosystem are summarized."
   ]
  },
  {
   "cell_type": "markdown",
   "metadata": {},
   "source": [
    "### 2. Popular languages\n",
    "Some of popular languages that Data Scientists use are:\n",
    "- 1. Python\n",
    "- 2. R\n",
    "- 3. SQL\n",
    "- 4. Julia\n",
    "- 5. JavaScript"
   ]
  },
  {
   "cell_type": "markdown",
   "metadata": {},
   "source": [
    "### 3. Popular libraries\n",
    "Some of the commonly used libraries used by Data Scientists include:\n",
    "- 1. NumPy: A library for efficient numerical computation, particularly useful for linear algebra, random number generation, and data analysis.\n",
    "\n",
    "- 2. SciPy: A scientific computing library that provides functions for scientific and engineering applications, including optimization, integration, and signal processing.\n",
    "\n",
    "- 3. Theano: A library for efficient numerical computation, particularly useful for machine learning and deep learning applications.\n",
    "\n",
    "- 4. Pandas: A library for data manipulation and analysis, providing data structures and functions for efficient data processing and analysis.\n",
    "\n",
    "- 5. Matplotlib: A library for creating static, animated, and interactive visualizations in Python, widely used for data visualization and scientific computing.\n",
    "\n",
    "- 6. Plotly: A library for creating interactive, web-based visualizations, particularly useful for data exploration and presentation.\n",
    "\n",
    "- 7. Seaborn: A library for statistical data visualization, built on top of Matplotlib, providing a high-level interface for creating informative and attractive statistical graphics.\n",
    "\n",
    "- 8. Ggplot: A library for creating fast graphics, particularly useful for data visualization and statistical analysis."
   ]
  },
  {
   "cell_type": "markdown",
   "metadata": {},
   "source": [
    "### 4. Data Science Tools\n",
    "| Data Science Tools          |\n",
    "|-----------------------------|\n",
    "| Jupyter Notebook            |\n",
    "| RStudio                     |\n",
    "| Apache Zeppelin             |"
   ]
  },
  {
   "cell_type": "markdown",
   "metadata": {},
   "source": [
    "### 5. Python code"
   ]
  },
  {
   "cell_type": "markdown",
   "metadata": {},
   "source": [
    "Below are a few examples of evaluating arithmetic expressions in python"
   ]
  },
  {
   "cell_type": "code",
   "execution_count": 1,
   "metadata": {},
   "outputs": [
    {
     "name": "stdout",
     "output_type": "stream",
     "text": [
      "17\n"
     ]
    }
   ],
   "source": [
    "print((3*4)+5)"
   ]
  },
  {
   "cell_type": "code",
   "execution_count": 1,
   "metadata": {},
   "outputs": [
    {
     "name": "stdout",
     "output_type": "stream",
     "text": [
      "200 minutes are 3.3333333333333335 hours!\n"
     ]
    }
   ],
   "source": [
    "# This will convert 200 minutes to hours by diving by 60\n",
    "\n",
    "minutes = 200\n",
    "\n",
    "hours = minutes / 60\n",
    "\n",
    "print(f'{minutes} minutes are {hours} hours!')"
   ]
  },
  {
   "cell_type": "markdown",
   "metadata": {},
   "source": [
    "### 6. Objectives:\n",
    "\n",
    "- List popular languages for Data Science.\n",
    "- Highlight commonly used libraries in Data Science.\n",
    "- Introduce basic arithmetic operations in Python.\n",
    "- Convert minutes to hours using Python."
   ]
  },
  {
   "cell_type": "markdown",
   "metadata": {},
   "source": [
    "### Author\n",
    "\n",
    "Javier Vázquez"
   ]
  }
 ],
 "metadata": {
  "kernelspec": {
   "display_name": "Python 3",
   "language": "python",
   "name": "python3"
  },
  "language_info": {
   "codemirror_mode": {
    "name": "ipython",
    "version": 3
   },
   "file_extension": ".py",
   "mimetype": "text/x-python",
   "name": "python",
   "nbconvert_exporter": "python",
   "pygments_lexer": "ipython3",
   "version": "3.11.5"
  }
 },
 "nbformat": 4,
 "nbformat_minor": 2
}
